{
 "cells": [
  {
   "cell_type": "markdown",
   "metadata": {},
   "source": [
    "<font color=\"#CA3532\"><h1 align=\"left\">Master Data Analytics. EDEM.</h1></font>\n",
    "<font color=\"#6E6E6E\"><h2 align=\"left\">Herramientas MLOps.</h2></font> \n",
    "<font color=\"#6E6E6E\"><h2 align=\"left\">Tarea 1. Pipeline entrenamiento de modelos.</h2></font> \n",
    "#### Daniel Ruiz Riquelme\n",
    "https://docs.metaflow.org/metaflow/basics"
   ]
  },
  {
   "attachments": {},
   "cell_type": "markdown",
   "metadata": {},
   "source": [
    "##  Install dependencies"
   ]
  },
  {
   "cell_type": "code",
   "execution_count": 13,
   "metadata": {},
   "outputs": [],
   "source": [
    "#!pip install metaflow\n",
    "#!pip install scikit-learn\n",
    "#!pip install pandas"
   ]
  },
  {
   "attachments": {},
   "cell_type": "markdown",
   "metadata": {},
   "source": [
    "## Set username"
   ]
  },
  {
   "cell_type": "code",
   "execution_count": 14,
   "metadata": {},
   "outputs": [],
   "source": [
    "# Set username for workflows\n",
    "import os\n",
    "os.environ[\"USERNAME\"] = \"nachoreyes\""
   ]
  },
  {
   "cell_type": "code",
   "execution_count": 17,
   "metadata": {},
   "outputs": [
    {
     "name": "stdout",
     "output_type": "stream",
     "text": [
      "Overwriting metaflow_trainingflow.py\n"
     ]
    }
   ],
   "source": [
    "%%writefile metaflow_trainingflow.py\n",
    "from metaflow import FlowSpec, Parameter, step\n",
    "from sklearn.datasets import load_iris\n",
    "from sklearn.model_selection import train_test_split\n",
    "from sklearn.ensemble import RandomForestClassifier\n",
    "from sklearn.metrics import confusion_matrix, classification_report\n",
    "import pickle\n",
    "\n",
    "class TrainingFlow(FlowSpec):\n",
    "    max_depth = Parameter('max_depth', default=2, help='Max depth of the random forest classifier')\n",
    "    n_estimators = Parameter('n_estimators', default=100, help='Number of estimators for the random forest classifier')\n",
    "    random_state = Parameter('random_state', default=0, help='Random state for the random forest classifier')\n",
    "    \n",
    "    @step\n",
    "    def start(self):\n",
    "        self.next(self.ingest_data)\n",
    "        \n",
    "    @step\n",
    "    def ingest_data(self):\n",
    "        iris = load_iris()\n",
    "        self.X = iris.data\n",
    "        self.y = iris.target\n",
    "        self.next(self.split_data)\n",
    "\n",
    "    @step\n",
    "    def split_data(self):\n",
    "        self.X_train, self.X_test, self.y_train, self.y_test = train_test_split(self.X, self.y, test_size=0.2)\n",
    "        self.next(self.train)\n",
    "\n",
    "    @step\n",
    "    def train(self):\n",
    "        self.clf = RandomForestClassifier(max_depth=self.max_depth, n_estimators=self.n_estimators, random_state=self.random_state)\n",
    "        self.clf.fit(self.X_train, self.y_train)\n",
    "        self.next(self.show_metrics)\n",
    "\n",
    "    @step\n",
    "    def show_metrics(self):\n",
    "        self.y_pred = self.clf.predict(self.X_test)\n",
    "        print(confusion_matrix(self.y_test, self.y_pred))\n",
    "        print(classification_report(self.y_test, self.y_pred))\n",
    "        self.next(self.register_model)\n",
    "        \n",
    "    @step\n",
    "    def register_model(self):\n",
    "        with open('model_second_day.pkl', 'wb') as f:\n",
    "            pickle.dump(self.clf, f)\n",
    "        self.next(self.end)\n",
    "        \n",
    "    @step\n",
    "    def end(self):\n",
    "        pass\n",
    "    \n",
    "if __name__ == '__main__':\n",
    "    TrainingFlow()\n"
   ]
  },
  {
   "cell_type": "code",
   "execution_count": 18,
   "metadata": {},
   "outputs": [
    {
     "name": "stdout",
     "output_type": "stream",
     "text": [
      "\u001b[35m\u001b[1mMetaflow 2.11.16\u001b[0m\u001b[35m\u001b[22m executing \u001b[0m\u001b[31m\u001b[1mTrainingFlow\u001b[0m\u001b[35m\u001b[22m\u001b[0m\u001b[35m\u001b[22m for \u001b[0m\u001b[31m\u001b[1muser:nachoreyes\u001b[0m\u001b[35m\u001b[22m\u001b[K\u001b[0m\u001b[35m\u001b[22m\u001b[0m\n",
      "\u001b[35m\u001b[22mValidating your flow...\u001b[K\u001b[0m\u001b[35m\u001b[22m\u001b[0m\n",
      "\u001b[32m\u001b[1m    The graph looks good!\u001b[K\u001b[0m\u001b[32m\u001b[1m\u001b[0m\n",
      "\u001b[35m\u001b[22mRunning pylint...\u001b[K\u001b[0m\u001b[35m\u001b[22m\u001b[0m\n",
      "\u001b[32m\u001b[22m    Pylint not found, so extra checks are disabled.\u001b[K\u001b[0m\u001b[32m\u001b[22m\u001b[0m\n",
      "\u001b[35m2024-05-22 16:44:31.326 \u001b[0m\u001b[1mWorkflow starting (run-id 1716389071325121):\u001b[0m\n",
      "\u001b[35m2024-05-22 16:44:31.335 \u001b[0m\u001b[32m[1716389071325121/start/1 (pid 5398)] \u001b[0m\u001b[1mTask is starting.\u001b[0m\n",
      "\u001b[35m2024-05-22 16:44:31.991 \u001b[0m\u001b[32m[1716389071325121/start/1 (pid 5398)] \u001b[0m\u001b[1mTask finished successfully.\u001b[0m\n",
      "\u001b[35m2024-05-22 16:44:31.996 \u001b[0m\u001b[32m[1716389071325121/ingest_data/2 (pid 5404)] \u001b[0m\u001b[1mTask is starting.\u001b[0m\n",
      "\u001b[35m2024-05-22 16:44:32.686 \u001b[0m\u001b[32m[1716389071325121/ingest_data/2 (pid 5404)] \u001b[0m\u001b[1mTask finished successfully.\u001b[0m\n",
      "\u001b[35m2024-05-22 16:44:32.690 \u001b[0m\u001b[32m[1716389071325121/split_data/3 (pid 5407)] \u001b[0m\u001b[1mTask is starting.\u001b[0m\n",
      "\u001b[35m2024-05-22 16:44:33.348 \u001b[0m\u001b[32m[1716389071325121/split_data/3 (pid 5407)] \u001b[0m\u001b[1mTask finished successfully.\u001b[0m\n",
      "\u001b[35m2024-05-22 16:44:33.352 \u001b[0m\u001b[32m[1716389071325121/train/4 (pid 5410)] \u001b[0m\u001b[1mTask is starting.\u001b[0m\n",
      "\u001b[35m2024-05-22 16:44:34.036 \u001b[0m\u001b[32m[1716389071325121/train/4 (pid 5410)] \u001b[0m\u001b[1mTask finished successfully.\u001b[0m\n",
      "\u001b[35m2024-05-22 16:44:34.041 \u001b[0m\u001b[32m[1716389071325121/show_metrics/5 (pid 5416)] \u001b[0m\u001b[1mTask is starting.\u001b[0m\n",
      "\u001b[35m2024-05-22 16:44:34.625 \u001b[0m\u001b[32m[1716389071325121/show_metrics/5 (pid 5416)] \u001b[0m\u001b[22m[[ 8  0  0]\u001b[0m\n",
      "\u001b[35m2024-05-22 16:44:34.627 \u001b[0m\u001b[32m[1716389071325121/show_metrics/5 (pid 5416)] \u001b[0m\u001b[22m[ 0  4  1]\u001b[0m\n",
      "\u001b[35m2024-05-22 16:44:34.627 \u001b[0m\u001b[32m[1716389071325121/show_metrics/5 (pid 5416)] \u001b[0m\u001b[22m[ 0  2 15]]\u001b[0m\n",
      "\u001b[35m2024-05-22 16:44:34.627 \u001b[0m\u001b[32m[1716389071325121/show_metrics/5 (pid 5416)] \u001b[0m\u001b[22mprecision    recall  f1-score   support\u001b[0m\n",
      "\u001b[35m2024-05-22 16:44:34.690 \u001b[0m\u001b[32m[1716389071325121/show_metrics/5 (pid 5416)] \u001b[0m\u001b[22m\u001b[0m\n",
      "\u001b[35m2024-05-22 16:44:34.690 \u001b[0m\u001b[32m[1716389071325121/show_metrics/5 (pid 5416)] \u001b[0m\u001b[22m0       1.00      1.00      1.00         8\u001b[0m\n",
      "\u001b[35m2024-05-22 16:44:34.690 \u001b[0m\u001b[32m[1716389071325121/show_metrics/5 (pid 5416)] \u001b[0m\u001b[22m1       0.67      0.80      0.73         5\u001b[0m\n",
      "\u001b[35m2024-05-22 16:44:34.690 \u001b[0m\u001b[32m[1716389071325121/show_metrics/5 (pid 5416)] \u001b[0m\u001b[22m2       0.94      0.88      0.91        17\u001b[0m\n",
      "\u001b[35m2024-05-22 16:44:34.690 \u001b[0m\u001b[32m[1716389071325121/show_metrics/5 (pid 5416)] \u001b[0m\u001b[22m\u001b[0m\n",
      "\u001b[35m2024-05-22 16:44:34.690 \u001b[0m\u001b[32m[1716389071325121/show_metrics/5 (pid 5416)] \u001b[0m\u001b[22maccuracy                           0.90        30\u001b[0m\n",
      "\u001b[35m2024-05-22 16:44:34.690 \u001b[0m\u001b[32m[1716389071325121/show_metrics/5 (pid 5416)] \u001b[0m\u001b[22mmacro avg       0.87      0.89      0.88        30\u001b[0m\n",
      "\u001b[35m2024-05-22 16:44:34.690 \u001b[0m\u001b[32m[1716389071325121/show_metrics/5 (pid 5416)] \u001b[0m\u001b[22mweighted avg       0.91      0.90      0.90        30\u001b[0m\n",
      "\u001b[35m2024-05-22 16:44:34.690 \u001b[0m\u001b[32m[1716389071325121/show_metrics/5 (pid 5416)] \u001b[0m\u001b[22m\u001b[0m\n",
      "\u001b[35m2024-05-22 16:44:34.691 \u001b[0m\u001b[32m[1716389071325121/show_metrics/5 (pid 5416)] \u001b[0m\u001b[1mTask finished successfully.\u001b[0m\n",
      "\u001b[35m2024-05-22 16:44:34.696 \u001b[0m\u001b[32m[1716389071325121/register_model/6 (pid 5419)] \u001b[0m\u001b[1mTask is starting.\u001b[0m\n",
      "\u001b[35m2024-05-22 16:44:35.346 \u001b[0m\u001b[32m[1716389071325121/register_model/6 (pid 5419)] \u001b[0m\u001b[1mTask finished successfully.\u001b[0m\n",
      "\u001b[35m2024-05-22 16:44:35.350 \u001b[0m\u001b[32m[1716389071325121/end/7 (pid 5422)] \u001b[0m\u001b[1mTask is starting.\u001b[0m\n",
      "\u001b[35m2024-05-22 16:44:36.017 \u001b[0m\u001b[32m[1716389071325121/end/7 (pid 5422)] \u001b[0m\u001b[1mTask finished successfully.\u001b[0m\n",
      "\u001b[35m2024-05-22 16:44:36.018 \u001b[0m\u001b[1mDone!\u001b[0m\n"
     ]
    }
   ],
   "source": [
    "!python3 metaflow_trainingflow.py run --max_depth 2 --n_estimators 100 --random_state 0"
   ]
  }
 ],
 "metadata": {
  "kernelspec": {
   "display_name": "productionalization",
   "language": "python",
   "name": "python3"
  },
  "language_info": {
   "codemirror_mode": {
    "name": "ipython",
    "version": 3
   },
   "file_extension": ".py",
   "mimetype": "text/x-python",
   "name": "python",
   "nbconvert_exporter": "python",
   "pygments_lexer": "ipython3",
   "version": "3.11.6"
  },
  "orig_nbformat": 4,
  "vscode": {
   "interpreter": {
    "hash": "5ed29f95de7cc8ac0f18a32ccae5fbddd3dba9010e060d505f2ebe31fc64f080"
   }
  }
 },
 "nbformat": 4,
 "nbformat_minor": 2
}
